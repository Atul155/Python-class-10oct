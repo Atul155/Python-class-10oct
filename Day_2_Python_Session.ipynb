{
  "nbformat": 4,
  "nbformat_minor": 0,
  "metadata": {
    "colab": {
      "provenance": []
    },
    "kernelspec": {
      "name": "python3",
      "display_name": "Python 3"
    },
    "language_info": {
      "name": "python"
    }
  },
  "cells": [
    {
      "cell_type": "markdown",
      "source": [
        "#  Variables types in Python"
      ],
      "metadata": {
        "id": "n0RGuO-6hsip"
      }
    },
    {
      "cell_type": "code",
      "source": [
        "# String\n",
        "var= 'Atul'\n",
        "print(var)"
      ],
      "metadata": {
        "colab": {
          "base_uri": "https://localhost:8080/"
        },
        "id": "Vl7_yK0khk46",
        "outputId": "feab8376-9f16-4a3d-ff1d-e76af9dfd31f"
      },
      "execution_count": null,
      "outputs": [
        {
          "output_type": "stream",
          "name": "stdout",
          "text": [
            "Atul\n"
          ]
        }
      ]
    },
    {
      "cell_type": "code",
      "source": [
        "# Integer\n",
        "var= '15'\n",
        "print(var)"
      ],
      "metadata": {
        "colab": {
          "base_uri": "https://localhost:8080/"
        },
        "id": "MM86b8Qoh4G3",
        "outputId": "2807a46d-3ef6-4fb5-bd13-59df7f8b44f8"
      },
      "execution_count": null,
      "outputs": [
        {
          "output_type": "stream",
          "name": "stdout",
          "text": [
            "15\n"
          ]
        }
      ]
    },
    {
      "cell_type": "code",
      "source": [
        "# Boolean\n",
        "var= True\n",
        "print(var)"
      ],
      "metadata": {
        "colab": {
          "base_uri": "https://localhost:8080/"
        },
        "id": "7jyLz1jQi7st",
        "outputId": "79b6e0ae-0081-4ffd-a4eb-46c2b7dfa462"
      },
      "execution_count": null,
      "outputs": [
        {
          "output_type": "stream",
          "name": "stdout",
          "text": [
            "True\n"
          ]
        }
      ]
    },
    {
      "cell_type": "code",
      "source": [
        "# Float\n",
        "var= 25.5\n",
        "print(var)\n"
      ],
      "metadata": {
        "colab": {
          "base_uri": "https://localhost:8080/"
        },
        "id": "0aIqYdFwjYad",
        "outputId": "3569ae49-7ac0-44fd-82da-5c05ba076067"
      },
      "execution_count": null,
      "outputs": [
        {
          "output_type": "stream",
          "name": "stdout",
          "text": [
            "25.5\n"
          ]
        }
      ]
    },
    {
      "cell_type": "code",
      "source": [
        "#  Interger\n",
        "var1=100000\n",
        "print(var1)\n",
        "var= 1_00_000\n",
        "print(var)"
      ],
      "metadata": {
        "colab": {
          "base_uri": "https://localhost:8080/"
        },
        "id": "CtxwxaZcjmUp",
        "outputId": "6e62b1f5-5595-4a2f-b2c6-96a76b0dc3ec"
      },
      "execution_count": null,
      "outputs": [
        {
          "output_type": "stream",
          "name": "stdout",
          "text": [
            "100000\n",
            "100000\n"
          ]
        }
      ]
    },
    {
      "cell_type": "code",
      "source": [
        "#  Float\n",
        "var=2.2e2\n",
        "print(var)"
      ],
      "metadata": {
        "colab": {
          "base_uri": "https://localhost:8080/"
        },
        "id": "8I-22oERkdK8",
        "outputId": "4df173a1-f16a-4301-f5fa-7962a2518068"
      },
      "execution_count": null,
      "outputs": [
        {
          "output_type": "stream",
          "name": "stdout",
          "text": [
            "220.0\n"
          ]
        }
      ]
    },
    {
      "cell_type": "code",
      "source": [
        "#  Float\n",
        "var=2.22\n",
        "print(var)"
      ],
      "metadata": {
        "colab": {
          "base_uri": "https://localhost:8080/"
        },
        "id": "tsDH6QwTlT5b",
        "outputId": "d9a957d3-1119-44df-e467-96c2e342e582"
      },
      "execution_count": null,
      "outputs": [
        {
          "output_type": "stream",
          "name": "stdout",
          "text": [
            "2.22\n"
          ]
        }
      ]
    },
    {
      "cell_type": "markdown",
      "source": [
        "#  Opeartors"
      ],
      "metadata": {
        "id": "cg966LcZlnR2"
      }
    },
    {
      "cell_type": "code",
      "source": [
        "operators=2>3\n",
        "print(operators)"
      ],
      "metadata": {
        "colab": {
          "base_uri": "https://localhost:8080/"
        },
        "id": "1CqLEReNltL6",
        "outputId": "ab4e7e04-bcbd-4a6c-9f40-ab8b09930324"
      },
      "execution_count": null,
      "outputs": [
        {
          "output_type": "stream",
          "name": "stdout",
          "text": [
            "False\n"
          ]
        }
      ]
    },
    {
      "cell_type": "code",
      "source": [
        "operators=6>3\n",
        "print(operators)"
      ],
      "metadata": {
        "colab": {
          "base_uri": "https://localhost:8080/"
        },
        "id": "zprg-KzQl5-P",
        "outputId": "00d6dfea-a638-48c4-8307-12caaa236608"
      },
      "execution_count": null,
      "outputs": [
        {
          "output_type": "stream",
          "name": "stdout",
          "text": [
            "True\n"
          ]
        }
      ]
    },
    {
      "cell_type": "code",
      "source": [
        "if operators==True:\n",
        "  print(\"Hello\")\n",
        "else:\n",
        "  print(\"Not Hi\")"
      ],
      "metadata": {
        "colab": {
          "base_uri": "https://localhost:8080/"
        },
        "id": "qTPGlDEcmDJs",
        "outputId": "7ccca923-a257-4efa-e9bb-84e2c15d610f"
      },
      "execution_count": null,
      "outputs": [
        {
          "output_type": "stream",
          "name": "stdout",
          "text": [
            "Not Hi\n"
          ]
        }
      ]
    },
    {
      "cell_type": "code",
      "source": [
        "score=int(input(\"What is your Score in Maths?\"))\n",
        "if score>33:\n",
        " print(\"pass\")\n",
        "else:\n",
        "  print(\"Not pass\")"
      ],
      "metadata": {
        "colab": {
          "base_uri": "https://localhost:8080/"
        },
        "id": "Yp6stDTYmjSs",
        "outputId": "37a73481-1f76-4b3a-e91f-702efb743938"
      },
      "execution_count": null,
      "outputs": [
        {
          "output_type": "stream",
          "name": "stdout",
          "text": [
            "What is your Score in Maths?45\n",
            "pass\n"
          ]
        }
      ]
    },
    {
      "cell_type": "code",
      "source": [
        "score=int(input(\"What is your Score in Maths?\"))\n",
        "if score>33:\n",
        " print(\"pass\")\n",
        "else:\n",
        "  print(\"Not pass\")"
      ],
      "metadata": {
        "colab": {
          "base_uri": "https://localhost:8080/"
        },
        "id": "39ZqUPEioHum",
        "outputId": "69c6a72b-9563-41ef-eab4-7cbd6142edbf"
      },
      "execution_count": null,
      "outputs": [
        {
          "output_type": "stream",
          "name": "stdout",
          "text": [
            "What is your Score in Maths?32\n",
            "Not pass\n"
          ]
        }
      ]
    },
    {
      "cell_type": "code",
      "source": [
        "# Declare my marks in Maths\n",
        "score=35\n",
        "\n",
        "# Increment this mark by 5\n",
        "score+=5\n",
        "\n",
        "# print final score\n",
        "print(score)"
      ],
      "metadata": {
        "colab": {
          "base_uri": "https://localhost:8080/"
        },
        "id": "E3JLwHpAoRk0",
        "outputId": "ee5ea58f-3012-4eeb-f06b-b58f91e16a72"
      },
      "execution_count": null,
      "outputs": [
        {
          "output_type": "stream",
          "name": "stdout",
          "text": [
            "40\n"
          ]
        }
      ]
    },
    {
      "cell_type": "code",
      "source": [
        "math_score=50\n",
        "math_score=math_score%5\n",
        "print(math_score)"
      ],
      "metadata": {
        "colab": {
          "base_uri": "https://localhost:8080/"
        },
        "id": "WUcKOfJtparB",
        "outputId": "4b22946e-2f16-433f-d9d7-5d179540e980"
      },
      "execution_count": null,
      "outputs": [
        {
          "output_type": "stream",
          "name": "stdout",
          "text": [
            "0\n"
          ]
        }
      ]
    },
    {
      "cell_type": "code",
      "source": [
        "math_score=50\n",
        "math_score=math_score//5\n",
        "print(math_score)"
      ],
      "metadata": {
        "colab": {
          "base_uri": "https://localhost:8080/"
        },
        "id": "irA5Td5Kq8W3",
        "outputId": "2f239943-3730-4b7c-b49e-87fe0e8c0bba"
      },
      "execution_count": null,
      "outputs": [
        {
          "output_type": "stream",
          "name": "stdout",
          "text": [
            "10\n"
          ]
        }
      ]
    },
    {
      "cell_type": "code",
      "source": [
        "# Integer Division\n",
        "-10//3"
      ],
      "metadata": {
        "colab": {
          "base_uri": "https://localhost:8080/"
        },
        "id": "ipkCLKkdrM4t",
        "outputId": "fe55effe-168b-43fd-8881-aea68e1b11b1"
      },
      "execution_count": null,
      "outputs": [
        {
          "output_type": "execute_result",
          "data": {
            "text/plain": [
              "-4"
            ]
          },
          "metadata": {},
          "execution_count": 47
        }
      ]
    },
    {
      "cell_type": "code",
      "source": [
        "age=120\n",
        "print(age)\n",
        "id(age)"
      ],
      "metadata": {
        "colab": {
          "base_uri": "https://localhost:8080/"
        },
        "id": "ZNf_Smc7sTNa",
        "outputId": "1ff4b44d-1167-463a-f2c9-086e5b18a10e"
      },
      "execution_count": null,
      "outputs": [
        {
          "output_type": "stream",
          "name": "stdout",
          "text": [
            "120\n"
          ]
        },
        {
          "output_type": "execute_result",
          "data": {
            "text/plain": [
              "135201020776400"
            ]
          },
          "metadata": {},
          "execution_count": 49
        }
      ]
    },
    {
      "cell_type": "code",
      "source": [],
      "metadata": {
        "id": "S9rwcJkSsYhM"
      },
      "execution_count": null,
      "outputs": []
    },
    {
      "cell_type": "markdown",
      "source": [
        "#  Keywords"
      ],
      "metadata": {
        "id": "DzP2CH7ptM6l"
      }
    },
    {
      "cell_type": "code",
      "source": [
        "help(\"keywords\")"
      ],
      "metadata": {
        "colab": {
          "base_uri": "https://localhost:8080/"
        },
        "id": "GXF_7nFZtToB",
        "outputId": "6084bf82-dedf-4c79-eda7-719212dc394d"
      },
      "execution_count": null,
      "outputs": [
        {
          "output_type": "stream",
          "name": "stdout",
          "text": [
            "\n",
            "Here is a list of the Python keywords.  Enter any keyword to get more help.\n",
            "\n",
            "False               class               from                or\n",
            "None                continue            global              pass\n",
            "True                def                 if                  raise\n",
            "and                 del                 import              return\n",
            "as                  elif                in                  try\n",
            "assert              else                is                  while\n",
            "async               except              lambda              with\n",
            "await               finally             nonlocal            yield\n",
            "break               for                 not                 \n",
            "\n"
          ]
        }
      ]
    },
    {
      "cell_type": "code",
      "source": [
        "count=150\n",
        "total=150\n",
        "print(id(count))\n",
        "print(id(total))"
      ],
      "metadata": {
        "colab": {
          "base_uri": "https://localhost:8080/"
        },
        "id": "Gg9thCJDtYm4",
        "outputId": "d007b80b-bcdb-46c2-cf23-7754cae9afb5"
      },
      "execution_count": null,
      "outputs": [
        {
          "output_type": "stream",
          "name": "stdout",
          "text": [
            "135201020777360\n",
            "135201020777360\n"
          ]
        }
      ]
    },
    {
      "cell_type": "code",
      "source": [
        "count=150\n",
        "total=155\n",
        "print(id(count))\n",
        "print(id(total))"
      ],
      "metadata": {
        "colab": {
          "base_uri": "https://localhost:8080/"
        },
        "id": "txilf1_fuSKI",
        "outputId": "bc32253b-a5b2-4c8a-90db-044424a7a873"
      },
      "execution_count": null,
      "outputs": [
        {
          "output_type": "stream",
          "name": "stdout",
          "text": [
            "135201020777360\n",
            "135201020777520\n"
          ]
        }
      ]
    }
  ]
}