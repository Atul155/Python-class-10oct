{
  "nbformat": 4,
  "nbformat_minor": 0,
  "metadata": {
    "colab": {
      "provenance": []
    },
    "kernelspec": {
      "name": "python3",
      "display_name": "Python 3"
    },
    "language_info": {
      "name": "python"
    }
  },
  "cells": [
    {
      "cell_type": "markdown",
      "source": [
        "#  Functions in Python"
      ],
      "metadata": {
        "id": "SzCeT05zfGPf"
      }
    },
    {
      "cell_type": "code",
      "execution_count": 1,
      "metadata": {
        "id": "nUrsxEj_e3Di"
      },
      "outputs": [],
      "source": [
        "# declaration of the function\n",
        "def display():\n",
        "  print(\"My name is Atul kumar dubey, I'm Learning Data Science\")"
      ]
    },
    {
      "cell_type": "code",
      "source": [
        "# calling of the function\n",
        "display()"
      ],
      "metadata": {
        "colab": {
          "base_uri": "https://localhost:8080/"
        },
        "id": "S54Au9W_gNqn",
        "outputId": "3c469c8c-ad52-4c4f-ca99-8a41e1230e13"
      },
      "execution_count": 2,
      "outputs": [
        {
          "output_type": "stream",
          "name": "stdout",
          "text": [
            "My name is Atul kumar dubey, I'm Learning Data Science\n"
          ]
        }
      ]
    },
    {
      "cell_type": "code",
      "source": [
        "# calling of the function\n",
        "display()\n",
        "display()\n",
        "display()\n",
        "display()\n",
        "display()\n",
        "display()"
      ],
      "metadata": {
        "colab": {
          "base_uri": "https://localhost:8080/"
        },
        "id": "2hiJ98O1gXCk",
        "outputId": "6d3dc55e-8cca-4301-abb4-f7402cb72909"
      },
      "execution_count": 8,
      "outputs": [
        {
          "output_type": "stream",
          "name": "stdout",
          "text": [
            "My name is Atul kumar dubey, I'm Learning Data Science\n",
            "My name is Atul kumar dubey, I'm Learning Data Science\n",
            "My name is Atul kumar dubey, I'm Learning Data Science\n",
            "My name is Atul kumar dubey, I'm Learning Data Science\n",
            "My name is Atul kumar dubey, I'm Learning Data Science\n",
            "My name is Atul kumar dubey, I'm Learning Data Science\n"
          ]
        }
      ]
    },
    {
      "cell_type": "code",
      "source": [
        "# declaration of the function\n",
        "def display(course):\n",
        "  print(\"My name is Atul kumar dubey, I'm Learning\",course)"
      ],
      "metadata": {
        "id": "mBVrT7JPh3ZY"
      },
      "execution_count": 16,
      "outputs": []
    },
    {
      "cell_type": "code",
      "source": [
        "display('Data analycts')"
      ],
      "metadata": {
        "colab": {
          "base_uri": "https://localhost:8080/"
        },
        "id": "jqzUXKfmh9Bc",
        "outputId": "bfc3e8a9-dbb3-45d4-aea5-a6108f3a97f5"
      },
      "execution_count": 17,
      "outputs": [
        {
          "output_type": "stream",
          "name": "stdout",
          "text": [
            "My name is Atul kumar dubey, I'm Learning Data analycts\n"
          ]
        }
      ]
    },
    {
      "cell_type": "code",
      "source": [
        "display('Deep learning')"
      ],
      "metadata": {
        "colab": {
          "base_uri": "https://localhost:8080/"
        },
        "id": "W2UUygkfioCE",
        "outputId": "0919a630-ab5d-49ac-ef8b-f95bbd2af5c0"
      },
      "execution_count": 46,
      "outputs": [
        {
          "output_type": "stream",
          "name": "stdout",
          "text": [
            "My name is Atul kumar dubey, I'm Learning Deep learning\n"
          ]
        }
      ]
    },
    {
      "cell_type": "code",
      "source": [
        "display(\"Machine learning\")"
      ],
      "metadata": {
        "colab": {
          "base_uri": "https://localhost:8080/"
        },
        "id": "euZ0zdhuit5Q",
        "outputId": "de32e4cc-f88b-481d-d3ea-ab524bbf4fd2"
      },
      "execution_count": 19,
      "outputs": [
        {
          "output_type": "stream",
          "name": "stdout",
          "text": [
            "My name is Atul kumar dubey, I'm Learning Machine learning\n"
          ]
        }
      ]
    },
    {
      "cell_type": "code",
      "source": [
        "# declaration of the function with the argument\n",
        "def display(course):\n",
        "  print(\"My name is Atul kumar dubey, I'm Learning\",course)"
      ],
      "metadata": {
        "id": "ekHh7TXIi6f_"
      },
      "execution_count": 34,
      "outputs": []
    },
    {
      "cell_type": "code",
      "source": [
        "display('M.B.A')"
      ],
      "metadata": {
        "colab": {
          "base_uri": "https://localhost:8080/"
        },
        "id": "O1jRnlwpj2vS",
        "outputId": "3317d26c-4919-4e89-c6e3-042539c07115"
      },
      "execution_count": 35,
      "outputs": [
        {
          "output_type": "stream",
          "name": "stdout",
          "text": [
            "My name is Atul kumar dubey, I'm Learning M.B.A\n"
          ]
        }
      ]
    },
    {
      "cell_type": "code",
      "source": [
        "display(\"B.tec\")"
      ],
      "metadata": {
        "colab": {
          "base_uri": "https://localhost:8080/"
        },
        "id": "-ekvY04zkEoi",
        "outputId": "9fd2bca2-bfaa-4b8a-fdcb-82a3d4c26b46"
      },
      "execution_count": 36,
      "outputs": [
        {
          "output_type": "stream",
          "name": "stdout",
          "text": [
            "My name is Atul kumar dubey, I'm Learning B.tec\n"
          ]
        }
      ]
    },
    {
      "cell_type": "code",
      "source": [
        "# declaration of the function\n",
        "def display1():\n",
        "  print(\"My name is Atul kumar dubey, I'm Learning Data Science\")"
      ],
      "metadata": {
        "id": "Qz36LNhqkKjX"
      },
      "execution_count": 37,
      "outputs": []
    },
    {
      "cell_type": "code",
      "source": [
        "# calling function\n",
        "display1()"
      ],
      "metadata": {
        "colab": {
          "base_uri": "https://localhost:8080/"
        },
        "id": "ThiAqVQVlRl-",
        "outputId": "0c59e649-7bbe-4bb7-c815-a16ebd95bf1f"
      },
      "execution_count": 39,
      "outputs": [
        {
          "output_type": "stream",
          "name": "stdout",
          "text": [
            "My name is Atul kumar dubey, I'm Learning Data Science\n"
          ]
        }
      ]
    },
    {
      "cell_type": "code",
      "source": [
        "# declaration of the function with the argument\n",
        "def display2(course):\n",
        "  print(\"My name is Atul kumar dubey, I'm Learning\",course)"
      ],
      "metadata": {
        "id": "zo33asq6lhuY"
      },
      "execution_count": 41,
      "outputs": []
    },
    {
      "cell_type": "code",
      "source": [
        "display2('B.A')"
      ],
      "metadata": {
        "colab": {
          "base_uri": "https://localhost:8080/"
        },
        "id": "P8uuh1aTllT_",
        "outputId": "38f4c117-2fa3-4ad7-e331-9e392014ea6a"
      },
      "execution_count": 47,
      "outputs": [
        {
          "output_type": "stream",
          "name": "stdout",
          "text": [
            "My name is Atul kumar dubey, I'm Learning B.A\n"
          ]
        }
      ]
    },
    {
      "cell_type": "code",
      "source": [
        "display2('data science with AI')"
      ],
      "metadata": {
        "colab": {
          "base_uri": "https://localhost:8080/"
        },
        "id": "1EQQHEszmZxZ",
        "outputId": "c3142ea2-56b2-481f-f466-1e01ddd32581"
      },
      "execution_count": 53,
      "outputs": [
        {
          "output_type": "stream",
          "name": "stdout",
          "text": [
            "My name is Atul kumar dubey, I'm Learning data science with AI\n"
          ]
        }
      ]
    },
    {
      "cell_type": "markdown",
      "source": [
        "# declaration of the Function with two argument"
      ],
      "metadata": {
        "id": "B7YwA9AZnF4D"
      }
    },
    {
      "cell_type": "code",
      "source": [
        "# declaration of the function with two argument\n",
        "def display3(name, course):\n",
        "  print(\"my name is\",name, \"I'm learning\",course)"
      ],
      "metadata": {
        "id": "6KA54_qLmwDy"
      },
      "execution_count": 54,
      "outputs": []
    },
    {
      "cell_type": "code",
      "source": [
        "display3('Shivam','D.pharma')"
      ],
      "metadata": {
        "colab": {
          "base_uri": "https://localhost:8080/"
        },
        "id": "z-jyXvvLnR83",
        "outputId": "ce86a687-1537-48dc-c6fd-5bee807a971e"
      },
      "execution_count": 56,
      "outputs": [
        {
          "output_type": "stream",
          "name": "stdout",
          "text": [
            "my name is Shivam I'm learning D.pharma\n"
          ]
        }
      ]
    },
    {
      "cell_type": "code",
      "source": [
        "display3('Rahul','D.pharma')"
      ],
      "metadata": {
        "colab": {
          "base_uri": "https://localhost:8080/"
        },
        "id": "M9HwTN2roScX",
        "outputId": "f4a651aa-17e5-45c5-8a95-409497c35671"
      },
      "execution_count": 61,
      "outputs": [
        {
          "output_type": "stream",
          "name": "stdout",
          "text": [
            "my name is Rahul I'm learning D.pharma\n"
          ]
        }
      ]
    },
    {
      "cell_type": "markdown",
      "source": [
        "#  define function with String and Integer"
      ],
      "metadata": {
        "id": "WVs23qnMplNA"
      }
    },
    {
      "cell_type": "code",
      "source": [
        "def laugh():\n",
        "  print('Ha '*6)"
      ],
      "metadata": {
        "id": "qdoc787nobgk"
      },
      "execution_count": 63,
      "outputs": []
    },
    {
      "cell_type": "code",
      "source": [
        "laugh()"
      ],
      "metadata": {
        "colab": {
          "base_uri": "https://localhost:8080/"
        },
        "id": "mpzbZf2Zp-bY",
        "outputId": "41fc24ca-1371-4280-b9e7-aab87d2bdb28"
      },
      "execution_count": 66,
      "outputs": [
        {
          "output_type": "stream",
          "name": "stdout",
          "text": [
            "Ha Ha Ha Ha Ha Ha \n"
          ]
        }
      ]
    },
    {
      "cell_type": "code",
      "source": [
        "laugh()\n",
        "laugh()\n",
        "laugh()\n",
        "laugh()\n",
        "laugh()"
      ],
      "metadata": {
        "colab": {
          "base_uri": "https://localhost:8080/"
        },
        "id": "qgRe6qaDqBd_",
        "outputId": "5d352b4e-9ed4-4fc1-bafd-14f9726f8b52"
      },
      "execution_count": 67,
      "outputs": [
        {
          "output_type": "stream",
          "name": "stdout",
          "text": [
            "Ha Ha Ha Ha Ha Ha \n",
            "Ha Ha Ha Ha Ha Ha \n",
            "Ha Ha Ha Ha Ha Ha \n",
            "Ha Ha Ha Ha Ha Ha \n",
            "Ha Ha Ha Ha Ha Ha \n"
          ]
        }
      ]
    },
    {
      "cell_type": "code",
      "source": [
        "laugh()\n",
        "laugh()\n",
        "laugh()\n",
        "laugh()\n",
        "laugh()\n",
        "laugh()\n",
        "laugh()\n",
        "laugh()\n",
        "laugh()\n",
        "laugh()"
      ],
      "metadata": {
        "colab": {
          "base_uri": "https://localhost:8080/"
        },
        "id": "54ciyNhoqQvy",
        "outputId": "6f703c7f-e202-476b-d5d2-2d83a74b1912"
      },
      "execution_count": 72,
      "outputs": [
        {
          "output_type": "stream",
          "name": "stdout",
          "text": [
            "Ha Ha Ha Ha Ha Ha \n",
            "Ha Ha Ha Ha Ha Ha \n",
            "Ha Ha Ha Ha Ha Ha \n",
            "Ha Ha Ha Ha Ha Ha \n",
            "Ha Ha Ha Ha Ha Ha \n",
            "Ha Ha Ha Ha Ha Ha \n",
            "Ha Ha Ha Ha Ha Ha \n",
            "Ha Ha Ha Ha Ha Ha \n",
            "Ha Ha Ha Ha Ha Ha \n",
            "Ha Ha Ha Ha Ha Ha \n"
          ]
        }
      ]
    },
    {
      "cell_type": "code",
      "source": [
        "for i in range(10):\n",
        "  laugh()"
      ],
      "metadata": {
        "colab": {
          "base_uri": "https://localhost:8080/",
          "height": 159
        },
        "id": "w0GwBbOLtVDE",
        "outputId": "eaef18a7-3acb-4d4b-e3a2-d69cf6aadd2c"
      },
      "execution_count": 84,
      "outputs": [
        {
          "output_type": "error",
          "ename": "TypeError",
          "evalue": "'int' object is not callable",
          "traceback": [
            "\u001b[0;31m---------------------------------------------------------------------------\u001b[0m",
            "\u001b[0;31mTypeError\u001b[0m                                 Traceback (most recent call last)",
            "\u001b[0;32m<ipython-input-84-06406b32bf78>\u001b[0m in \u001b[0;36m<cell line: 1>\u001b[0;34m()\u001b[0m\n\u001b[0;32m----> 1\u001b[0;31m \u001b[0;32mfor\u001b[0m \u001b[0mi\u001b[0m \u001b[0;32min\u001b[0m \u001b[0mrange\u001b[0m\u001b[0;34m(\u001b[0m\u001b[0;36m10\u001b[0m\u001b[0;34m)\u001b[0m\u001b[0;34m:\u001b[0m\u001b[0;34m\u001b[0m\u001b[0;34m\u001b[0m\u001b[0m\n\u001b[0m\u001b[1;32m      2\u001b[0m   \u001b[0mlaugh\u001b[0m\u001b[0;34m(\u001b[0m\u001b[0;34m)\u001b[0m\u001b[0;34m\u001b[0m\u001b[0;34m\u001b[0m\u001b[0m\n",
            "\u001b[0;31mTypeError\u001b[0m: 'int' object is not callable"
          ]
        }
      ]
    },
    {
      "cell_type": "code",
      "source": [
        "# in bulit function\n",
        "str='atul kumar'\n",
        "len(str)"
      ],
      "metadata": {
        "colab": {
          "base_uri": "https://localhost:8080/"
        },
        "id": "Qg61Nf82uUu6",
        "outputId": "2105fd21-039f-41a6-ff47-8932792b8e85"
      },
      "execution_count": 86,
      "outputs": [
        {
          "output_type": "execute_result",
          "data": {
            "text/plain": [
              "10"
            ]
          },
          "metadata": {},
          "execution_count": 86
        }
      ]
    },
    {
      "cell_type": "code",
      "source": [
        "def laugh():\n",
        "  print('Ha '*6)"
      ],
      "metadata": {
        "id": "vKFw_Bcmu2cI"
      },
      "execution_count": 87,
      "outputs": []
    },
    {
      "cell_type": "code",
      "source": [
        "def laugh(intensity):\n",
        "  print('Ha '*intensity)"
      ],
      "metadata": {
        "id": "MX5I6tEdvizk"
      },
      "execution_count": 88,
      "outputs": []
    },
    {
      "cell_type": "code",
      "source": [
        "intensity=15\n",
        "laugh(intensity)"
      ],
      "metadata": {
        "colab": {
          "base_uri": "https://localhost:8080/"
        },
        "id": "iWpz-fa9v-FU",
        "outputId": "4719d12b-1f6d-49e8-a627-42e1399003a0"
      },
      "execution_count": 90,
      "outputs": [
        {
          "output_type": "stream",
          "name": "stdout",
          "text": [
            "Ha Ha Ha Ha Ha Ha Ha Ha Ha Ha Ha Ha Ha Ha Ha \n"
          ]
        }
      ]
    },
    {
      "cell_type": "code",
      "source": [
        "intensity=6\n",
        "laugh(intensity)"
      ],
      "metadata": {
        "colab": {
          "base_uri": "https://localhost:8080/"
        },
        "id": "d9Gb5P5VwJUB",
        "outputId": "22deae55-864a-43e2-ab7f-2f6d4a243f40"
      },
      "execution_count": 91,
      "outputs": [
        {
          "output_type": "stream",
          "name": "stdout",
          "text": [
            "Ha Ha Ha Ha Ha Ha \n"
          ]
        }
      ]
    },
    {
      "cell_type": "code",
      "source": [
        "laugh(6)\n",
        "laugh(15)"
      ],
      "metadata": {
        "colab": {
          "base_uri": "https://localhost:8080/"
        },
        "id": "TC0I-p2NwhKj",
        "outputId": "dc9d634a-b0e5-4d06-d315-5a1f3eb6daac"
      },
      "execution_count": 93,
      "outputs": [
        {
          "output_type": "stream",
          "name": "stdout",
          "text": [
            "Ha Ha Ha Ha Ha Ha \n",
            "Ha Ha Ha Ha Ha Ha Ha Ha Ha Ha Ha Ha Ha Ha Ha \n"
          ]
        }
      ]
    },
    {
      "cell_type": "markdown",
      "source": [
        "#  function with two integer variables"
      ],
      "metadata": {
        "id": "EM6WUtBWw-HH"
      }
    },
    {
      "cell_type": "code",
      "source": [
        "def devide(x,y):\n",
        "  return x/y"
      ],
      "metadata": {
        "id": "TL2sx_Zmwtt_"
      },
      "execution_count": 94,
      "outputs": []
    },
    {
      "cell_type": "code",
      "source": [
        "print(devide(15,5))"
      ],
      "metadata": {
        "colab": {
          "base_uri": "https://localhost:8080/"
        },
        "id": "V9jp-zM0yIab",
        "outputId": "37e8d85d-8d29-47e7-eea1-df5970e1cc59"
      },
      "execution_count": 95,
      "outputs": [
        {
          "output_type": "stream",
          "name": "stdout",
          "text": [
            "3.0\n"
          ]
        }
      ]
    },
    {
      "cell_type": "code",
      "source": [
        "print(devide(3,12))"
      ],
      "metadata": {
        "colab": {
          "base_uri": "https://localhost:8080/"
        },
        "id": "7-81aXbIyQSB",
        "outputId": "92f3d12f-7a78-4402-9aff-37d036088f4a"
      },
      "execution_count": 97,
      "outputs": [
        {
          "output_type": "stream",
          "name": "stdout",
          "text": [
            "0.25\n"
          ]
        }
      ]
    },
    {
      "cell_type": "markdown",
      "source": [
        "#  Define function with default values"
      ],
      "metadata": {
        "id": "m66a5RkT0E-c"
      }
    },
    {
      "cell_type": "code",
      "source": [
        "def laugh(intensity=10):\n",
        "  print('Ha '*intensity)"
      ],
      "metadata": {
        "id": "ghvetj1Kyjif"
      },
      "execution_count": 98,
      "outputs": []
    },
    {
      "cell_type": "code",
      "source": [
        "laugh()"
      ],
      "metadata": {
        "colab": {
          "base_uri": "https://localhost:8080/"
        },
        "id": "BkkGl7860kEm",
        "outputId": "f8bcb57f-e8b8-45db-ad96-bed82a04b8e2"
      },
      "execution_count": 99,
      "outputs": [
        {
          "output_type": "stream",
          "name": "stdout",
          "text": [
            "Ha Ha Ha Ha Ha Ha Ha Ha Ha Ha \n"
          ]
        }
      ]
    },
    {
      "cell_type": "code",
      "source": [
        "laugh(5)"
      ],
      "metadata": {
        "colab": {
          "base_uri": "https://localhost:8080/"
        },
        "id": "eyWQBb5n0olw",
        "outputId": "b64acd63-3bfe-4af9-8912-d24a09e056cc"
      },
      "execution_count": 100,
      "outputs": [
        {
          "output_type": "stream",
          "name": "stdout",
          "text": [
            "Ha Ha Ha Ha Ha \n"
          ]
        }
      ]
    },
    {
      "cell_type": "code",
      "source": [],
      "metadata": {
        "id": "H618T5U60u3e"
      },
      "execution_count": null,
      "outputs": []
    }
  ]
}