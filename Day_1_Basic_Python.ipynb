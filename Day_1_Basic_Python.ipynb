{
  "nbformat": 4,
  "nbformat_minor": 0,
  "metadata": {
    "colab": {
      "provenance": []
    },
    "kernelspec": {
      "name": "python3",
      "display_name": "Python 3"
    },
    "language_info": {
      "name": "python"
    }
  },
  "cells": [
    {
      "cell_type": "markdown",
      "source": [
        "**Print in Python**"
      ],
      "metadata": {
        "id": "-naX2sqkO5cN"
      }
    },
    {
      "cell_type": "code",
      "source": [
        "print(\"Data analystics\")"
      ],
      "metadata": {
        "colab": {
          "base_uri": "https://localhost:8080/"
        },
        "id": "wJwC3m2HO_4G",
        "outputId": "31167ad5-b684-4d93-dde1-2db44170214e"
      },
      "execution_count": null,
      "outputs": [
        {
          "output_type": "stream",
          "name": "stdout",
          "text": [
            "Data analystics\n"
          ]
        }
      ]
    },
    {
      "cell_type": "code",
      "source": [
        "# Case sensitive\n",
        "# print(\"Data analystics\")   xxxxx\n",
        "# print[\"Machine Learning\"]  xxxxx"
      ],
      "metadata": {
        "id": "9mjDcL6KPPuD"
      },
      "execution_count": null,
      "outputs": []
    },
    {
      "cell_type": "markdown",
      "source": [
        "**Mathemetical Operations**"
      ],
      "metadata": {
        "id": "BYug1Q2VQYGB"
      }
    },
    {
      "cell_type": "code",
      "source": [
        "# Addition\n",
        "a=10\n",
        "b=25\n",
        "c=a+b\n",
        "print(c)"
      ],
      "metadata": {
        "colab": {
          "base_uri": "https://localhost:8080/"
        },
        "id": "9Hk4cRANQsSa",
        "outputId": "c6852312-127f-42ee-8d04-96118d61e325"
      },
      "execution_count": null,
      "outputs": [
        {
          "output_type": "stream",
          "name": "stdout",
          "text": [
            "35\n"
          ]
        }
      ]
    },
    {
      "cell_type": "code",
      "source": [
        "# Multiplication\n",
        "a=10\n",
        "b=22\n",
        "c=a*b\n",
        "print(c)"
      ],
      "metadata": {
        "colab": {
          "base_uri": "https://localhost:8080/"
        },
        "id": "1Ye-Byf2Q_PM",
        "outputId": "4be046ba-ff16-40b7-ba73-31c90c9f2b5a"
      },
      "execution_count": null,
      "outputs": [
        {
          "output_type": "stream",
          "name": "stdout",
          "text": [
            "220\n"
          ]
        }
      ]
    },
    {
      "cell_type": "code",
      "source": [
        "# Divison\n",
        "a=10\n",
        "b=25\n",
        "c=b/a\n",
        "print(c)"
      ],
      "metadata": {
        "colab": {
          "base_uri": "https://localhost:8080/"
        },
        "id": "CxT6MH3qRS1g",
        "outputId": "5ab3cbe1-3171-45a2-a114-2645100aab1f"
      },
      "execution_count": null,
      "outputs": [
        {
          "output_type": "stream",
          "name": "stdout",
          "text": [
            "2.5\n"
          ]
        }
      ]
    },
    {
      "cell_type": "code",
      "source": [
        "# Substraction\n",
        "a=15\n",
        "b=25\n",
        "c=a-b\n",
        "print(c)"
      ],
      "metadata": {
        "colab": {
          "base_uri": "https://localhost:8080/"
        },
        "id": "hjFST9hoRkdM",
        "outputId": "1d82effa-885c-45fd-df48-9a13f95d74e7"
      },
      "execution_count": null,
      "outputs": [
        {
          "output_type": "stream",
          "name": "stdout",
          "text": [
            "-10\n"
          ]
        }
      ]
    },
    {
      "cell_type": "code",
      "source": [
        "# Quotient\n",
        "a=15\n",
        "b=25\n",
        "c=b//a\n",
        "print(c)"
      ],
      "metadata": {
        "colab": {
          "base_uri": "https://localhost:8080/"
        },
        "id": "wGGqS4dwR2HG",
        "outputId": "da7c9e09-b111-4029-e4de-e5db85388222"
      },
      "execution_count": null,
      "outputs": [
        {
          "output_type": "stream",
          "name": "stdout",
          "text": [
            "1\n"
          ]
        }
      ]
    },
    {
      "cell_type": "code",
      "source": [
        "# Remainder\n",
        "a=15\n",
        "b=25\n",
        "c=b%a\n",
        "print(c)"
      ],
      "metadata": {
        "colab": {
          "base_uri": "https://localhost:8080/"
        },
        "id": "advSq4K4SK0l",
        "outputId": "2d00f4f4-4d84-4d3c-a878-a27a64219d58"
      },
      "execution_count": null,
      "outputs": [
        {
          "output_type": "stream",
          "name": "stdout",
          "text": [
            "10\n"
          ]
        }
      ]
    },
    {
      "cell_type": "code",
      "source": [],
      "metadata": {
        "id": "bE-zWzYQSbEx"
      },
      "execution_count": null,
      "outputs": []
    },
    {
      "cell_type": "markdown",
      "source": [
        "**Power in Python**"
      ],
      "metadata": {
        "id": "OT4gk-j8Su-S"
      }
    },
    {
      "cell_type": "code",
      "source": [
        "# Power operator in Python\n",
        "3**2"
      ],
      "metadata": {
        "colab": {
          "base_uri": "https://localhost:8080/"
        },
        "id": "8p1CQIZDTKQB",
        "outputId": "ac6389a9-71fa-4313-b9eb-f7ad3e8a694d"
      },
      "execution_count": null,
      "outputs": [
        {
          "output_type": "execute_result",
          "data": {
            "text/plain": [
              "9"
            ]
          },
          "metadata": {},
          "execution_count": 11
        }
      ]
    },
    {
      "cell_type": "code",
      "source": [
        "5**4"
      ],
      "metadata": {
        "colab": {
          "base_uri": "https://localhost:8080/"
        },
        "id": "dwY1UXy5TUnJ",
        "outputId": "065ea728-4ce7-4b6d-a7de-f2681867cca1"
      },
      "execution_count": null,
      "outputs": [
        {
          "output_type": "execute_result",
          "data": {
            "text/plain": [
              "625"
            ]
          },
          "metadata": {},
          "execution_count": 12
        }
      ]
    },
    {
      "cell_type": "code",
      "source": [
        "2**7"
      ],
      "metadata": {
        "colab": {
          "base_uri": "https://localhost:8080/"
        },
        "id": "mxwjui9ETWzW",
        "outputId": "9a18d01b-196c-41a3-8cc9-d86bcb77caa4"
      },
      "execution_count": null,
      "outputs": [
        {
          "output_type": "execute_result",
          "data": {
            "text/plain": [
              "128"
            ]
          },
          "metadata": {},
          "execution_count": 13
        }
      ]
    },
    {
      "cell_type": "markdown",
      "source": [
        "**Data type in Python**"
      ],
      "metadata": {
        "id": "XHsGPvLgTfaS"
      }
    },
    {
      "cell_type": "code",
      "source": [
        "a=10\n",
        "print(type(a))"
      ],
      "metadata": {
        "colab": {
          "base_uri": "https://localhost:8080/"
        },
        "id": "XSJfAQK9ToaQ",
        "outputId": "3d1be014-cf32-4a73-960f-9b4cae5c7047"
      },
      "execution_count": null,
      "outputs": [
        {
          "output_type": "stream",
          "name": "stdout",
          "text": [
            "<class 'int'>\n"
          ]
        }
      ]
    },
    {
      "cell_type": "code",
      "source": [
        "age=10   # Variable\n",
        "print(age)"
      ],
      "metadata": {
        "colab": {
          "base_uri": "https://localhost:8080/"
        },
        "id": "gx2OGi7QT3An",
        "outputId": "1f166a0d-3b67-4753-f530-a7aeb57794b9"
      },
      "execution_count": null,
      "outputs": [
        {
          "output_type": "stream",
          "name": "stdout",
          "text": [
            "10\n"
          ]
        }
      ]
    },
    {
      "cell_type": "code",
      "source": [
        "print(\"Atul kumar Dubey\")"
      ],
      "metadata": {
        "colab": {
          "base_uri": "https://localhost:8080/"
        },
        "id": "lbJnbBzKUFTr",
        "outputId": "bf462543-7f2c-4890-d25d-c08e775e9de5"
      },
      "execution_count": null,
      "outputs": [
        {
          "output_type": "stream",
          "name": "stdout",
          "text": [
            "Atul kumar Dubey\n"
          ]
        }
      ]
    },
    {
      "cell_type": "code",
      "source": [
        "atul=29\n",
        "print(atul)"
      ],
      "metadata": {
        "colab": {
          "base_uri": "https://localhost:8080/"
        },
        "id": "KQPf3PnqUOB_",
        "outputId": "4decdfca-1da7-46db-b549-202bc9c10863"
      },
      "execution_count": null,
      "outputs": [
        {
          "output_type": "stream",
          "name": "stdout",
          "text": [
            "29\n"
          ]
        }
      ]
    },
    {
      "cell_type": "code",
      "source": [
        "uni=\"VBSPU\"\n",
        "print(\"VBSPU\")"
      ],
      "metadata": {
        "colab": {
          "base_uri": "https://localhost:8080/"
        },
        "id": "z6lanMFNUbwq",
        "outputId": "2fd88cc8-d39d-43e2-8b4b-081496e67d01"
      },
      "execution_count": null,
      "outputs": [
        {
          "output_type": "stream",
          "name": "stdout",
          "text": [
            "VBSPU\n"
          ]
        }
      ]
    },
    {
      "cell_type": "code",
      "source": [
        "print(\"uni\")"
      ],
      "metadata": {
        "colab": {
          "base_uri": "https://localhost:8080/"
        },
        "id": "qYS6PAKWUy2U",
        "outputId": "28b41ad3-09d3-4f87-fe80-b8ce266a2240"
      },
      "execution_count": null,
      "outputs": [
        {
          "output_type": "stream",
          "name": "stdout",
          "text": [
            "uni\n"
          ]
        }
      ]
    },
    {
      "cell_type": "code",
      "source": [
        "name='Radha'\n",
        "print(name)"
      ],
      "metadata": {
        "colab": {
          "base_uri": "https://localhost:8080/"
        },
        "id": "eiT6zLFdVUxq",
        "outputId": "6e3af977-f43f-4d9d-84fb-de16b481b513"
      },
      "execution_count": null,
      "outputs": [
        {
          "output_type": "stream",
          "name": "stdout",
          "text": [
            "Radha\n"
          ]
        }
      ]
    },
    {
      "cell_type": "code",
      "source": [
        "name='Radha'\n",
        "print(\"what is your name?\")"
      ],
      "metadata": {
        "colab": {
          "base_uri": "https://localhost:8080/"
        },
        "id": "muffr5dDViz9",
        "outputId": "87aa9ae6-66cf-40d1-9a00-c6da5ce19350"
      },
      "execution_count": null,
      "outputs": [
        {
          "output_type": "stream",
          "name": "stdout",
          "text": [
            "what is your name?\n"
          ]
        }
      ]
    },
    {
      "cell_type": "code",
      "source": [],
      "metadata": {
        "id": "oZjeGsQmVxn7"
      },
      "execution_count": null,
      "outputs": []
    },
    {
      "cell_type": "markdown",
      "source": [
        "**Input Function in Python**"
      ],
      "metadata": {
        "id": "Ld1mqRHUV4j4"
      }
    },
    {
      "cell_type": "code",
      "source": [
        "name=input(\"What is your Name?\")\n",
        "print(\"Hey\",name,\"How are you today?\")"
      ],
      "metadata": {
        "colab": {
          "base_uri": "https://localhost:8080/"
        },
        "id": "XWDS2EZzWEPk",
        "outputId": "38211e21-6200-4d6a-8f54-d6ba1e372554"
      },
      "execution_count": null,
      "outputs": [
        {
          "output_type": "stream",
          "name": "stdout",
          "text": [
            "What is your Name?Radha\n",
            "Hey Radha How are you today?\n"
          ]
        }
      ]
    },
    {
      "cell_type": "code",
      "source": [],
      "metadata": {
        "id": "fcG2HWnYWk_i"
      },
      "execution_count": null,
      "outputs": []
    }
  ]
}